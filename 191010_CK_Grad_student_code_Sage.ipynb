{
 "cells": [
  {
   "cell_type": "code",
   "execution_count": 1,
   "metadata": {
    "colab": {},
    "colab_type": "code",
    "id": "f5tCWLaskvg9"
   },
   "outputs": [],
   "source": [
    "#This is the qfuncts\n",
    "\n",
    "import numpy as np\n",
    "from numpy import identity as eye, trace, kron\n",
    "\n",
    "#### error builder functions, for the matrix checks\n",
    "#Defining recursivly\n",
    "#This is how you choose your protecton\n",
    "def kron_eye(n):\n",
    "    I = eye(2)\n",
    "    tI = I.copy()\n",
    "    for i in range(n-1):\n",
    "        I = kron(I, tI)\n",
    "    return(I)\n",
    "def eX(n):\n",
    "    x = np.array([[0, 1],[1, 0]])\n",
    "    tx = np.array(x, copy=True)\n",
    "    for i in range(n-1):\n",
    "        x = kron(x, tx)\n",
    "    return(x)\n",
    "def eY(n):\n",
    "    y = np.array([[0, -1j], [1j, 0]])\n",
    "    ty = np.array(y, copy=True)\n",
    "    for i in range(n-1):\n",
    "        y = kron(y, ty)\n",
    "    return(y)\n",
    "def eZ(n):\n",
    "    z = np.array([[1, 0], [0, -1]])\n",
    "    tz = np.array(z, copy=True)\n",
    "    for i in range(n-1):\n",
    "        z = kron(z, tz)\n",
    "    return(z)\n",
    "\n",
    "\n",
    "#### encoding functions for matrix checks\n",
    "def Error(A, E):\n",
    "    return(np.dot(np.dot(E, A), E)) # E.T gives - for Ys\n",
    "def encode(P, A):\n",
    "    return(np.dot(np.dot(P, A), P.T))\n",
    "def decode(P, B):\n",
    "    return(np.dot(np.dot(P.T, B), P))\n",
    "\n",
    "\n",
    "#### retrieve rho\n",
    "def partial_trace(A):\n",
    "    \"\"\" only does trace 1 for now \"\"\"\n",
    "    n, m = A.shape\n",
    "    if n != m:\n",
    "        print(\"squares for now\")\n",
    "        return(1)\n",
    "    a = A[:n//2, :n//2]\n",
    "    #b = A[:n//2, n//2:]\n",
    "    #c = A[n//2:, :n//2]\n",
    "    d = A[n//2:, n//2:]\n",
    "    if np.log2(n) % 2 == 1: # if odd\n",
    "        return(np.add(a, d))\n",
    "    else: # two sigmas need getting rid\n",
    "        return(partial_trace(np.add(a, d)))\n",
    "    \n",
    "    \n",
    "#### floating point cleanup\n",
    "def round_error(A, B):\n",
    "    total = np.sum(A - B)\n",
    "    return(np.abs(total) < 0.001)\n",
    "\n",
    "\n",
    "#### recursively build teh circuit\n",
    "def build_circ(qc, q, E):\n",
    "    \n",
    "    n = q[-1][1] + 1# highest qubit\n",
    "    def err(e, base=False):\n",
    "        d = {'X':qc.x, 'Y':qc.y, 'Z':qc.z, 'I':lambda x: None}\n",
    "        d[e](q[n-1])\n",
    "        if base: # if we're at q3\n",
    "            d[e](q[0])\n",
    "            d[e](q[1])\n",
    "    \n",
    "    if n % 2 == 0: # qn is even\n",
    "        qc.cx(q[n-2], q[n-1])\n",
    "        qc.h(q[n-2])\n",
    "        qc.cx(q[n-2], q[n-1])\n",
    "        build_circ(qc, q[:-1], E)\n",
    "        err(E)\n",
    "        qc.cx(q[n-2], q[n-1])\n",
    "        qc.h(q[n-2])\n",
    "        qc.cx(q[n-2], q[n-1])\n",
    "    else: # it's odd\n",
    "        qc.cx(q[n-1], q[n-2])\n",
    "        qc.cx(q[n-3], q[n-1])\n",
    "        qc.cx(q[n-2], q[n-3])\n",
    "        if n == 3: # base case\n",
    "            err(E, True)\n",
    "        else:\n",
    "            build_circ(qc, q[:-1], E)\n",
    "            err(E)\n",
    "        qc.cx(q[n-2], q[n-3])\n",
    "        qc.cx(q[n-3], q[n-1])\n",
    "        qc.cx(q[n-1], q[n-2])\n",
    "    return()\n",
    "\n",
    "\n",
    "#### recursively build the P matrix\n",
    "def build_u(N):\n",
    "    if N == 2:\n",
    "        return(np.array([[ 1, 0, 0, 1],\n",
    "                      [ 0,-1, 1, 0],\n",
    "                      [ 0, 1, 1, 0],\n",
    "                      [ 1, 0, 0,-1]])/np.sqrt(2))\n",
    "    elif N == 3:\n",
    "        return(np.array([[1, 0, 0, 0, 0, 0, 0, 0],\n",
    "                       [0, 0, 0, 0, 0, 0, 0, 1],\n",
    "                       [0, 0, 0, 0, 0, 1, 0, 0],\n",
    "                       [0, 0, 1, 0, 0, 0, 0, 0],\n",
    "                       [0, 0, 0, 0, 0, 0, 1, 0],\n",
    "                       [0, 1, 0, 0, 0, 0, 0, 0],\n",
    "                       [0, 0, 0, 1, 0, 0, 0, 0],\n",
    "                       [0, 0, 0, 0, 1, 0, 0, 0]]))\n",
    "    elif N % 2 == 0:\n",
    "        return(np.dot(kron(eye(2), build_u(N-1)), kron(build_u(2), kron_eye(N-2))))\n",
    "    else:\n",
    "        return(np.dot(kron(kron_eye(2), build_u(N-2)), kron(build_u(3), kron_eye(N-3))))"
   ]
  },
  {
   "cell_type": "code",
   "execution_count": 2,
   "metadata": {
    "colab": {},
    "colab_type": "code",
    "id": "F79ZZeL0kvhE"
   },
   "outputs": [],
   "source": [
    "import qiskit "
   ]
  },
  {
   "cell_type": "code",
   "execution_count": 3,
   "metadata": {
    "colab": {},
    "colab_type": "code",
    "id": "eB1XSzlPkvhI"
   },
   "outputs": [],
   "source": [
    "from qiskit import IBMQ"
   ]
  },
  {
   "cell_type": "code",
   "execution_count": 5,
   "metadata": {
    "colab": {},
    "colab_type": "code",
    "id": "85Rov9BVkvhM"
   },
   "outputs": [],
   "source": [
    "IBMQ.save_account('1b35af4ebcdf9bf56fc5d6a67fcfcc94adb1b0f268bf7bfe47427d294829b740737483e37f5c7dc2941bdfd0a4847baeb44b78867a91e65c39e35c89cf5309b2', overwrite=True)"
   ]
  },
  {
   "cell_type": "code",
   "execution_count": 6,
   "metadata": {
    "colab": {},
    "colab_type": "code",
    "id": "x9Q7eFbWkvhO"
   },
   "outputs": [],
   "source": [
    "#Imports that work.  Assuming everything else has been ported to Qiskit Standard\n",
    "from numpy import identity as eye, trace, kron\n",
    "import numpy as np\n",
    "\n",
    "import matplotlib.pyplot as plt\n",
    "\n",
    "from qiskit import QuantumCircuit, ClassicalRegister, QuantumRegister, \\\n",
    "    BasicAer, execute, IBMQ, __qiskit_version__\n",
    "\n",
    "from qiskit.providers.aer import noise\n",
    "\n",
    "from qiskit.quantum_info import Pauli, state_fidelity, basis_state, \\\n",
    "    process_fidelity, random_state, projector\n",
    "\n",
    "from qiskit.tools.visualization import plot_histogram\n",
    "\n",
    "import glob\n",
    "import PIL "
   ]
  },
  {
   "cell_type": "code",
   "execution_count": 7,
   "metadata": {
    "colab": {},
    "colab_type": "code",
    "id": "zGUhXtBtkvhQ"
   },
   "outputs": [],
   "source": [
    "#Simulators\n",
    "statevec = BasicAer.get_backend('statevector_simulator')\n",
    "unitary = BasicAer.get_backend('unitary_simulator')\n",
    "qasm = BasicAer.get_backend('qasm_simulator')"
   ]
  },
  {
   "cell_type": "code",
   "execution_count": 8,
   "metadata": {
    "colab": {},
    "colab_type": "code",
    "id": "rJlSnUKHkvhS"
   },
   "outputs": [],
   "source": [
    "IBMQ.load_account()\n",
    "\n",
    "provider = IBMQ.get_provider('ibm-q')"
   ]
  },
  {
   "cell_type": "code",
   "execution_count": 9,
   "metadata": {
    "colab": {},
    "colab_type": "code",
    "id": "M4PmUKc_kvhT"
   },
   "outputs": [],
   "source": [
    "#Setting up Acutal quantum Backends.  Missing ibmqx4.  \n",
    "\n",
    "\n",
    "try:\n",
    "    ibmqx2 = provider.get_backend('ibmqx2')\n",
    "except:\n",
    "    IBMQ.load_account()\n",
    "    ibmqx2 = provider.get_backend('ibmqx2')"
   ]
  },
  {
   "cell_type": "code",
   "execution_count": 10,
   "metadata": {
    "colab": {},
    "colab_type": "code",
    "id": "VINMSR0akvhU"
   },
   "outputs": [],
   "source": [
    "#Now begins the simulating"
   ]
  },
  {
   "cell_type": "code",
   "execution_count": 11,
   "metadata": {
    "colab": {},
    "colab_type": "code",
    "id": "oqMFsnJFkvhW"
   },
   "outputs": [],
   "source": [
    "#Setup Quantum System\n",
    "q2 = QuantumRegister(2)\n",
    "c2 = ClassicalRegister(2)\n",
    "qc2 = QuantumCircuit(q2, c2)\n"
   ]
  },
  {
   "cell_type": "code",
   "execution_count": 12,
   "metadata": {
    "colab": {},
    "colab_type": "code",
    "id": "3PBmy3V8kvhX",
    "outputId": "24448a2c-668a-4dba-de85-05dc64ee7b1d"
   },
   "outputs": [
    {
     "data": {
      "text/plain": [
       "<qiskit.circuit.instructionset.InstructionSet at 0x1a17f999e8>"
      ]
     },
     "execution_count": 12,
     "metadata": {},
     "output_type": "execute_result"
    }
   ],
   "source": [
    "#I think that this is encoding everything using hadimar and control x gates\n",
    "\n",
    "# encode\n",
    "#qc2.cx(q2[0],q2[1])\n",
    "qc2.cx(q2[0], q2[1])\n",
    "qc2.h(q2[0])\n",
    "qc2.cx(q2[0], q2[1])"
   ]
  },
  {
   "cell_type": "code",
   "execution_count": 13,
   "metadata": {
    "colab": {},
    "colab_type": "code",
    "id": "OfN-cduykvha",
    "outputId": "3ee754a5-93a4-4e87-8829-43e9a972a1b2"
   },
   "outputs": [
    {
     "data": {
      "text/plain": [
       "<qiskit.circuit.instructionset.InstructionSet at 0x1a17adfa20>"
      ]
     },
     "execution_count": 13,
     "metadata": {},
     "output_type": "execute_result"
    }
   ],
   "source": [
    "#Somehow acting on the superimposed system with a unitary matrix??  \n",
    "#I think this is simulating the result of the system going through the device.  \n",
    "\n",
    "P2 = execute(qc2, unitary).result().get_unitary(qc2)\n",
    "\n",
    "qc2.z(q2)"
   ]
  },
  {
   "cell_type": "code",
   "execution_count": 14,
   "metadata": {
    "colab": {},
    "colab_type": "code",
    "id": "xWeORwFJkvhb",
    "outputId": "4798a5d8-c710-4222-9e45-862020c71d79"
   },
   "outputs": [
    {
     "data": {
      "text/plain": [
       "<qiskit.circuit.instructionset.InstructionSet at 0x1a19044cf8>"
      ]
     },
     "execution_count": 14,
     "metadata": {},
     "output_type": "execute_result"
    }
   ],
   "source": [
    "#His comment is self explanitory.  Decodeing according to Prof's Theory.  \n",
    "\n",
    "# decode\n",
    "qc2.cx(q2[0], q2[1])\n",
    "qc2.h(q2[0])\n",
    "qc2.cx(q2[0], q2[1])\n"
   ]
  },
  {
   "cell_type": "code",
   "execution_count": 15,
   "metadata": {
    "colab": {},
    "colab_type": "code",
    "id": "h9jkR1TSkvhd",
    "outputId": "befcfe3b-98c1-4e9c-ed38-6dd7304e1e1d"
   },
   "outputs": [
    {
     "data": {
      "text/plain": [
       "<qiskit.circuit.instructionset.InstructionSet at 0x1a190178d0>"
      ]
     },
     "execution_count": 15,
     "metadata": {},
     "output_type": "execute_result"
    }
   ],
   "source": [
    "#Measuring.  Collapses the superimposition.  \n",
    "\n",
    "qc2.measure(q2, c2)"
   ]
  },
  {
   "cell_type": "code",
   "execution_count": 16,
   "metadata": {
    "colab": {},
    "colab_type": "code",
    "id": "jQxUy0DPkvhe",
    "outputId": "7f89b9da-8ceb-4713-8f25-e91a07a1dd64"
   },
   "outputs": [
    {
     "data": {
      "image/png": "[encoded data removed]",
      "text/plain": [
       "<Figure size 709.156x204.68 with 1 Axes>"
      ]
     },
     "execution_count": 16,
     "metadata": {},
     "output_type": "execute_result"
    }
   ],
   "source": [
    "#This draws the circuit\n",
    "qc2.draw()\n",
    "qc2.draw(output=\"mpl\")"
   ]
  },
  {
   "cell_type": "code",
   "execution_count": 17,
   "metadata": {
    "colab": {},
    "colab_type": "code",
    "id": "u7yKtP9ikvhf",
    "outputId": "0a8063c2-11e3-43e7-be4a-0736f13c5b48"
   },
   "outputs": [
    {
     "data": {
      "image/png": "[encoded data removed]",
      "text/plain": [
       "<Figure size 504x360 with 1 Axes>"
      ]
     },
     "execution_count": 17,
     "metadata": {},
     "output_type": "execute_result"
    }
   ],
   "source": [
    "#This exicutes it in a sim. and plots the results\n",
    "res2=execute(qc2, qasm).result()\n",
    "r2c = res2.get_counts(qc2)\n",
    "plot_histogram(r2c)"
   ]
  },
  {
   "cell_type": "code",
   "execution_count": null,
   "metadata": {
    "colab": {},
    "colab_type": "code",
    "id": "9DDARZz3kvhg"
   },
   "outputs": [],
   "source": []
  },
  {
   "cell_type": "code",
   "execution_count": 18,
   "metadata": {
    "colab": {},
    "colab_type": "code",
    "id": "Bh6yFeTEkvhh"
   },
   "outputs": [],
   "source": [
    "#Done with the 2 cubit circuit, onto the 3 case.  "
   ]
  },
  {
   "cell_type": "code",
   "execution_count": 19,
   "metadata": {
    "colab": {},
    "colab_type": "code",
    "id": "JXgdlI_zkvhi"
   },
   "outputs": [],
   "source": [
    "#I think that this is some probubility dist.\n",
    "def randomrho(k):\n",
    "    rho_2 = random_state(2**k)\n",
    "    rho2h = {}\n",
    "    for i, prob in enumerate(list(map(lambda x: abs(x * x), rho_2))):\n",
    "        rho2h[format(i, '0%sb' % 2)] = prob"
   ]
  },
  {
   "cell_type": "code",
   "execution_count": 20,
   "metadata": {
    "colab": {},
    "colab_type": "code",
    "id": "Vwq3bD6ikvhj"
   },
   "outputs": [],
   "source": [
    "#Defining the circuit\n",
    "\n",
    "q3 = QuantumRegister(3)\n",
    "c3 = ClassicalRegister(2)\n",
    "qc3 = QuantumCircuit(q3, c3)"
   ]
  },
  {
   "cell_type": "code",
   "execution_count": 21,
   "metadata": {
    "colab": {},
    "colab_type": "code",
    "id": "w-wKBSmDkvhk",
    "outputId": "f003b294-27a5-4fa7-e55d-d439f5d60530"
   },
   "outputs": [
    {
     "data": {
      "text/plain": [
       "<qiskit.circuit.instructionset.InstructionSet at 0x1a191ff588>"
      ]
     },
     "execution_count": 21,
     "metadata": {},
     "output_type": "execute_result"
    }
   ],
   "source": [
    "#Isn't working since rho_2 isn't defined.  \n",
    "#Edit, Define Rho_2 as follows from the bottom of code.\n",
    "\n",
    "#stt = format(0, '0%sb' % 2)\n",
    "#rho_2 = basis_state(stt, 2)\n",
    "\n",
    "#Activate thingy\n",
    "#qc3.initialize(rho_2, [q3[0], q3[1]])\n",
    "\n",
    "#Does some weird stuff.  Big purple box.  Trying to re-run the whole program.  \n",
    "#nope, big purple box is still there.  \n",
    "\n",
    "#Trying again with the rho_2 grabbed from qcc_4\n",
    "rho_2 = random_state(2**2)\n",
    "\n",
    "#looks better, adding in the thingy\n",
    "\n",
    "qc3.initialize(rho_2, [q3[0], q3[1]])\n",
    "\n",
    "#Now it's just a bigger purple box with numbers in it.  \n",
    "\n",
    "#Leaving it in comments until I ask.  "
   ]
  },
  {
   "cell_type": "code",
   "execution_count": 22,
   "metadata": {
    "colab": {},
    "colab_type": "code",
    "id": "8IR0OID7kvhl",
    "outputId": "0104a1ba-0978-46d8-e533-eb3f65e6b86e"
   },
   "outputs": [
    {
     "name": "stderr",
     "output_type": "stream",
     "text": [
      "/anaconda3/lib/python3.6/site-packages/ipykernel_launcher.py:70: DeprecationWarning: Accessing a bit register by bit[0] or its index by bit[1] is deprecated. Go for bit.register and bit.index.\n"
     ]
    },
    {
     "data": {
      "text/plain": [
       "()"
      ]
     },
     "execution_count": 22,
     "metadata": {},
     "output_type": "execute_result"
    }
   ],
   "source": [
    "#This works?  maybe?\n",
    "build_circ(qc3, q3, 'X')"
   ]
  },
  {
   "cell_type": "code",
   "execution_count": 23,
   "metadata": {
    "colab": {},
    "colab_type": "code",
    "id": "5dSTFrgOkvhm"
   },
   "outputs": [],
   "source": [
    "#Measure, duh\n",
    "qc3.measure(q3[:2], c3);"
   ]
  },
  {
   "cell_type": "code",
   "execution_count": 24,
   "metadata": {
    "colab": {},
    "colab_type": "code",
    "id": "vnEZIErVkvhn",
    "outputId": "d43a1b18-1d50-402d-fc5d-bc719821cd5e"
   },
   "outputs": [
    {
     "data": {
      "image/png": "[encoded data removed]",
      "text/plain": [
       "<Figure size 1672.36x866.88 with 1 Axes>"
      ]
     },
     "execution_count": 24,
     "metadata": {},
     "output_type": "execute_result"
    }
   ],
   "source": [
    "qc3.draw(output=\"mpl\")"
   ]
  },
  {
   "cell_type": "code",
   "execution_count": 0,
   "metadata": {
    "colab": {},
    "colab_type": "code",
    "id": "Pt8ZSJ1jkvho"
   },
   "outputs": [],
   "source": [
    "#I have no idea why there is 4 of them.  \n",
    "#Fixed after a re-run of the whole system.  \n",
    "#The Build Circ. command stacks up.  Watch out!  "
   ]
  },
  {
   "cell_type": "code",
   "execution_count": 0,
   "metadata": {
    "colab": {},
    "colab_type": "code",
    "id": "lZA-70Rrkvho"
   },
   "outputs": [],
   "source": [
    "#My system just crashed after doing a little bit of the next part.  \n",
    "#Either my SSD is going or I forgot to set memory limits. Edit: It was the memory.   "
   ]
  },
  {
   "cell_type": "code",
   "execution_count": 0,
   "metadata": {
    "colab": {},
    "colab_type": "code",
    "id": "k22UgUpykvhp"
   },
   "outputs": [],
   "source": []
  },
  {
   "cell_type": "code",
   "execution_count": 0,
   "metadata": {
    "colab": {},
    "colab_type": "code",
    "id": "5609qVXXkvhq"
   },
   "outputs": [],
   "source": [
    "#Run simulator\n",
    "res3 = execute(qc3, qasm, shots=10000).result()"
   ]
  },
  {
   "cell_type": "code",
   "execution_count": 0,
   "metadata": {
    "colab": {},
    "colab_type": "code",
    "id": "wG-d7psSkvhq"
   },
   "outputs": [],
   "source": [
    "#Count up the data\n",
    "ct3 = res3.get_counts(qc3)"
   ]
  },
  {
   "cell_type": "code",
   "execution_count": 0,
   "metadata": {
    "colab": {},
    "colab_type": "code",
    "id": "QBynzxWQkvhr",
    "outputId": "f7422db9-c4d0-45a6-ebad-dc358fa3a0e7"
   },
   "outputs": [
    {
     "ename": "TypeError",
     "evalue": "the dtypes of parameters x (object) and width (float64) are incompatible",
     "output_type": "error",
     "traceback": [
      "\u001b[0;31m---------------------------------------------------------------------------\u001b[0m",
      "\u001b[0;31mTypeError\u001b[0m                                 Traceback (most recent call last)",
      "\u001b[0;32m~/anaconda3/lib/python3.7/site-packages/matplotlib/axes/_axes.py\u001b[0m in \u001b[0;36mbar\u001b[0;34m(self, x, height, width, bottom, align, **kwargs)\u001b[0m\n\u001b[1;32m   2401\u001b[0m                 \u001b[0;32mtry\u001b[0m\u001b[0;34m:\u001b[0m\u001b[0;34m\u001b[0m\u001b[0;34m\u001b[0m\u001b[0m\n\u001b[0;32m-> 2402\u001b[0;31m                     \u001b[0mleft\u001b[0m \u001b[0;34m=\u001b[0m \u001b[0mx\u001b[0m \u001b[0;34m-\u001b[0m \u001b[0mwidth\u001b[0m \u001b[0;34m/\u001b[0m \u001b[0;36m2\u001b[0m\u001b[0;34m\u001b[0m\u001b[0;34m\u001b[0m\u001b[0m\n\u001b[0m\u001b[1;32m   2403\u001b[0m                 \u001b[0;32mexcept\u001b[0m \u001b[0mTypeError\u001b[0m \u001b[0;32mas\u001b[0m \u001b[0me\u001b[0m\u001b[0;34m:\u001b[0m\u001b[0;34m\u001b[0m\u001b[0;34m\u001b[0m\u001b[0m\n",
      "\u001b[0;31mTypeError\u001b[0m: unsupported operand type(s) for -: 'dict' and 'float'",
      "\nThe above exception was the direct cause of the following exception:\n",
      "\u001b[0;31mTypeError\u001b[0m                                 Traceback (most recent call last)",
      "\u001b[0;32m<ipython-input-28-94bc4ee5d051>\u001b[0m in \u001b[0;36m<module>\u001b[0;34m\u001b[0m\n\u001b[1;32m      2\u001b[0m \u001b[0;34m\u001b[0m\u001b[0m\n\u001b[1;32m      3\u001b[0m \u001b[0;34m\u001b[0m\u001b[0m\n\u001b[0;32m----> 4\u001b[0;31m \u001b[0mplt\u001b[0m\u001b[0;34m.\u001b[0m\u001b[0mbar\u001b[0m\u001b[0;34m(\u001b[0m\u001b[0mct3\u001b[0m\u001b[0;34m,\u001b[0m \u001b[0mct3\u001b[0m\u001b[0;34m.\u001b[0m\u001b[0mvalues\u001b[0m\u001b[0;34m(\u001b[0m\u001b[0;34m)\u001b[0m\u001b[0;34m)\u001b[0m\u001b[0;34m\u001b[0m\u001b[0;34m\u001b[0m\u001b[0m\n\u001b[0m\u001b[1;32m      5\u001b[0m \u001b[0;34m\u001b[0m\u001b[0m\n\u001b[1;32m      6\u001b[0m \u001b[0mplt\u001b[0m\u001b[0;34m.\u001b[0m\u001b[0mshow\u001b[0m\u001b[0;34m(\u001b[0m\u001b[0;34m)\u001b[0m\u001b[0;34m\u001b[0m\u001b[0;34m\u001b[0m\u001b[0m\n",
      "\u001b[0;32m~/anaconda3/lib/python3.7/site-packages/matplotlib/pyplot.py\u001b[0m in \u001b[0;36mbar\u001b[0;34m(x, height, width, bottom, align, data, **kwargs)\u001b[0m\n\u001b[1;32m   2432\u001b[0m     return gca().bar(\n\u001b[1;32m   2433\u001b[0m         \u001b[0mx\u001b[0m\u001b[0;34m,\u001b[0m \u001b[0mheight\u001b[0m\u001b[0;34m,\u001b[0m \u001b[0mwidth\u001b[0m\u001b[0;34m=\u001b[0m\u001b[0mwidth\u001b[0m\u001b[0;34m,\u001b[0m \u001b[0mbottom\u001b[0m\u001b[0;34m=\u001b[0m\u001b[0mbottom\u001b[0m\u001b[0;34m,\u001b[0m \u001b[0malign\u001b[0m\u001b[0;34m=\u001b[0m\u001b[0malign\u001b[0m\u001b[0;34m,\u001b[0m\u001b[0;34m\u001b[0m\u001b[0;34m\u001b[0m\u001b[0m\n\u001b[0;32m-> 2434\u001b[0;31m         **({\"data\": data} if data is not None else {}), **kwargs)\n\u001b[0m\u001b[1;32m   2435\u001b[0m \u001b[0;34m\u001b[0m\u001b[0m\n\u001b[1;32m   2436\u001b[0m \u001b[0;34m\u001b[0m\u001b[0m\n",
      "\u001b[0;32m~/anaconda3/lib/python3.7/site-packages/matplotlib/__init__.py\u001b[0m in \u001b[0;36minner\u001b[0;34m(ax, data, *args, **kwargs)\u001b[0m\n\u001b[1;32m   1587\u001b[0m     \u001b[0;32mdef\u001b[0m \u001b[0minner\u001b[0m\u001b[0;34m(\u001b[0m\u001b[0max\u001b[0m\u001b[0;34m,\u001b[0m \u001b[0;34m*\u001b[0m\u001b[0margs\u001b[0m\u001b[0;34m,\u001b[0m \u001b[0mdata\u001b[0m\u001b[0;34m=\u001b[0m\u001b[0;32mNone\u001b[0m\u001b[0;34m,\u001b[0m \u001b[0;34m**\u001b[0m\u001b[0mkwargs\u001b[0m\u001b[0;34m)\u001b[0m\u001b[0;34m:\u001b[0m\u001b[0;34m\u001b[0m\u001b[0;34m\u001b[0m\u001b[0m\n\u001b[1;32m   1588\u001b[0m         \u001b[0;32mif\u001b[0m \u001b[0mdata\u001b[0m \u001b[0;32mis\u001b[0m \u001b[0;32mNone\u001b[0m\u001b[0;34m:\u001b[0m\u001b[0;34m\u001b[0m\u001b[0;34m\u001b[0m\u001b[0m\n\u001b[0;32m-> 1589\u001b[0;31m             \u001b[0;32mreturn\u001b[0m \u001b[0mfunc\u001b[0m\u001b[0;34m(\u001b[0m\u001b[0max\u001b[0m\u001b[0;34m,\u001b[0m \u001b[0;34m*\u001b[0m\u001b[0mmap\u001b[0m\u001b[0;34m(\u001b[0m\u001b[0msanitize_sequence\u001b[0m\u001b[0;34m,\u001b[0m \u001b[0margs\u001b[0m\u001b[0;34m)\u001b[0m\u001b[0;34m,\u001b[0m \u001b[0;34m**\u001b[0m\u001b[0mkwargs\u001b[0m\u001b[0;34m)\u001b[0m\u001b[0;34m\u001b[0m\u001b[0;34m\u001b[0m\u001b[0m\n\u001b[0m\u001b[1;32m   1590\u001b[0m \u001b[0;34m\u001b[0m\u001b[0m\n\u001b[1;32m   1591\u001b[0m         \u001b[0mbound\u001b[0m \u001b[0;34m=\u001b[0m \u001b[0mnew_sig\u001b[0m\u001b[0;34m.\u001b[0m\u001b[0mbind\u001b[0m\u001b[0;34m(\u001b[0m\u001b[0max\u001b[0m\u001b[0;34m,\u001b[0m \u001b[0;34m*\u001b[0m\u001b[0margs\u001b[0m\u001b[0;34m,\u001b[0m \u001b[0;34m**\u001b[0m\u001b[0mkwargs\u001b[0m\u001b[0;34m)\u001b[0m\u001b[0;34m\u001b[0m\u001b[0;34m\u001b[0m\u001b[0m\n",
      "\u001b[0;32m~/anaconda3/lib/python3.7/site-packages/matplotlib/axes/_axes.py\u001b[0m in \u001b[0;36mbar\u001b[0;34m(self, x, height, width, bottom, align, **kwargs)\u001b[0m\n\u001b[1;32m   2404\u001b[0m                     raise TypeError(f'the dtypes of parameters x ({x.dtype}) '\n\u001b[1;32m   2405\u001b[0m                                     \u001b[0;34mf'and width ({width.dtype}) '\u001b[0m\u001b[0;34m\u001b[0m\u001b[0;34m\u001b[0m\u001b[0m\n\u001b[0;32m-> 2406\u001b[0;31m                                     f'are incompatible') from e\n\u001b[0m\u001b[1;32m   2407\u001b[0m                 \u001b[0mbottom\u001b[0m \u001b[0;34m=\u001b[0m \u001b[0my\u001b[0m\u001b[0;34m\u001b[0m\u001b[0;34m\u001b[0m\u001b[0m\n\u001b[1;32m   2408\u001b[0m             \u001b[0;32melif\u001b[0m \u001b[0morientation\u001b[0m \u001b[0;34m==\u001b[0m \u001b[0;34m'horizontal'\u001b[0m\u001b[0;34m:\u001b[0m\u001b[0;34m\u001b[0m\u001b[0;34m\u001b[0m\u001b[0m\n",
      "\u001b[0;31mTypeError\u001b[0m: the dtypes of parameters x (object) and width (float64) are incompatible"
     ]
    },
    {
     "data": {
      "image/png": "[encoded data removed]",
      "text/plain": [
       "<Figure size 432x288 with 1 Axes>"
      ]
     },
     "metadata": {
      "needs_background": "light",
      "tags": []
     },
     "output_type": "display_data"
    }
   ],
   "source": [
    "#Plot it all using matplotlib\n",
    "\n",
    "\n",
    "plt.bar(ct3, ct3.values())\n",
    "\n",
    "plt.show()\n",
    "\n"
   ]
  },
  {
   "cell_type": "code",
   "execution_count": 0,
   "metadata": {
    "colab": {},
    "colab_type": "code",
    "id": "r1bdTTWokvhs"
   },
   "outputs": [],
   "source": []
  },
  {
   "cell_type": "code",
   "execution_count": 0,
   "metadata": {
    "colab": {},
    "colab_type": "code",
    "id": "6L5v0uwdkvht"
   },
   "outputs": [],
   "source": []
  }
 ],
 "metadata": {
  "colab": {
   "name": "CK_Grad_student_code.ipynb",
   "provenance": []
  },
  "kernelspec": {
   "display_name": "Python 3",
   "language": "python",
   "name": "python3"
  },
  "language_info": {
   "codemirror_mode": {
    "name": "ipython",
    "version": 3
   },
   "file_extension": ".py",
   "mimetype": "text/x-python",
   "name": "python",
   "nbconvert_exporter": "python",
   "pygments_lexer": "ipython3",
   "version": "3.6.8"
  }
 },
 "nbformat": 4,
 "nbformat_minor": 1
}
